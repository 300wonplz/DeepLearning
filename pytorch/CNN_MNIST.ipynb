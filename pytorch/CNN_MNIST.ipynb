{
 "cells": [
  {
   "cell_type": "code",
   "execution_count": 1,
   "metadata": {},
   "outputs": [],
   "source": [
    "import torch\n",
    "from torch.autograd import Variable\n",
    "import torch.nn as nn\n",
    "import torch.nn.functional as F\n",
    "import torch.optim as optim\n",
    "from torch.utils.data import DataLoader, TensorDataset\n",
    "\n",
    "from torchvision import datasets,transforms\n",
    "from sklearn.model_selection import train_test_split\n",
    "\n",
    "import pandas as pd\n",
    "\n",
    "import matplotlib.pyplot as plt\n",
    "import numpy as np\n",
    "from matplotlib import cm\n",
    "%matplotlib inline"
   ]
  },
  {
   "cell_type": "code",
   "execution_count": 2,
   "metadata": {},
   "outputs": [],
   "source": [
    "train_data = datasets.MNIST(root='./data', train=True, download=True, transform=transforms.Compose([\n",
    "                           transforms.ToTensor(),\n",
    "                           transforms.Normalize((0.1307,), (0.3081,))\n",
    "                       ]))\n",
    "test_data = datasets.MNIST(root='./data', train=False, download=True, transform=transforms.Compose([\n",
    "                           transforms.ToTensor(),\n",
    "                           transforms.Normalize((0.1307,), (0.3081,))\n",
    "                       ]))"
   ]
  },
  {
   "cell_type": "code",
   "execution_count": 3,
   "metadata": {},
   "outputs": [],
   "source": [
    "train_loader = DataLoader(train_data,  batch_size=100, shuffle=True)"
   ]
  },
  {
   "cell_type": "code",
   "execution_count": 4,
   "metadata": {},
   "outputs": [],
   "source": [
    "class Net(nn.Module):\n",
    "    def __init__(self):\n",
    "        super(Net, self).__init__()\n",
    "        self.conv1 = nn.Conv2d(1, 6, 5)\n",
    "        self.conv2 = nn.Conv2d(6, 16, 5)\n",
    "        self.fc1 = nn.Linear(256, 64)\n",
    "        self.fc2 = nn.Linear(64, 10)\n",
    "\n",
    "    def forward(self, x):\n",
    "        x = F.max_pool2d(F.relu(self.conv1(x)), 2)\n",
    "        x = F.max_pool2d(F.relu(self.conv2(x)), 2)\n",
    "        x = x.reshape(-1, 256)\n",
    "        x = F.relu(self.fc1(x))\n",
    "        x = self.fc2(x)\n",
    "        return x\n",
    "\n",
    "model = Net()\n",
    "model = model.cuda()\n",
    "torch.backends.cudnn.benchmark=True"
   ]
  },
  {
   "cell_type": "code",
   "execution_count": 5,
   "metadata": {},
   "outputs": [],
   "source": [
    "criterion = nn.CrossEntropyLoss()\n",
    "optimizer = optim.SGD(model.parameters(), lr=0.01)"
   ]
  },
  {
   "cell_type": "code",
   "execution_count": 6,
   "metadata": {},
   "outputs": [
    {
     "name": "stdout",
     "output_type": "stream",
     "text": [
      "2 144.540207631886\n",
      "4 77.75788171030581\n",
      "6 54.96656375192106\n",
      "8 43.338101097382605\n",
      "10 36.97992839617655\n"
     ]
    }
   ],
   "source": [
    "for epoch in range(10):\n",
    "    total_loss = 0\n",
    "    for data, target in train_loader:\n",
    "        #CNN filter에 들어가는값 [batch, filters, heigth, width]\n",
    "        train_x, train_y = Variable(data.reshape(-1, 1, 28, 28).float()).cuda(), Variable(target.long()).cuda()\n",
    "        optimizer.zero_grad()\n",
    "        output = model(train_x)\n",
    "        loss = criterion(output, train_y)\n",
    "        loss.backward()\n",
    "        optimizer.step()\n",
    "        total_loss += loss.item()\n",
    "        \n",
    "    if(epoch + 1) %2 == 0:\n",
    "        print(epoch+1, total_loss)"
   ]
  },
  {
   "cell_type": "code",
   "execution_count": 7,
   "metadata": {},
   "outputs": [],
   "source": [
    "test_x, test_y = Variable(test_data.test_data.float()).cuda(), Variable(test_data.test_labels.long()).cuda()\n",
    "test_x = test_x.reshape(-1, 1,28,28)"
   ]
  },
  {
   "cell_type": "code",
   "execution_count": 8,
   "metadata": {},
   "outputs": [
    {
     "data": {
      "text/plain": [
       "0.9782"
      ]
     },
     "execution_count": 8,
     "metadata": {},
     "output_type": "execute_result"
    }
   ],
   "source": [
    "result = torch.max(model(test_x).data, 1)[1]\n",
    "accuracy = sum(test_y.cpu().numpy() == result.cpu().numpy()) / len(test_y.cpu().numpy())\n",
    "accuracy"
   ]
  },
  {
   "cell_type": "code",
   "execution_count": 14,
   "metadata": {},
   "outputs": [
    {
     "data": {
      "text/plain": [
       "tensor([[   31.7112,  -131.1470,   414.8161,   451.3955,  -679.7946,   -39.0864,\n",
       "         -1213.8644,  1220.6010,   135.8199,   341.7913],\n",
       "        [  360.8430,   710.0635,  1241.4318,   315.2697,  -719.0433,  -320.5125,\n",
       "           -35.3708,  -308.0323,   105.2062, -1000.6298],\n",
       "        [ -193.2367,   618.8823,   -39.8172,   -99.9134,    36.8352,  -318.3038,\n",
       "           -11.9792,   105.6962,   126.8053,  -142.6334],\n",
       "        [ 1136.5857,  -422.8861,   113.5269,  -105.1617,  -288.9244,  -130.3493,\n",
       "           128.3009,  -120.9538,  -192.9983,   313.8086],\n",
       "        [  -83.0728,  -152.2972,   -30.8748,  -282.0391,  1076.5917,   -75.2010,\n",
       "            -5.8986,    99.2855,  -146.9599,   502.3894],\n",
       "        [ -211.2974,   802.5203,  -205.7221,  -135.6807,   145.8864,  -507.9320,\n",
       "          -201.4762,   286.6002,   112.9949,   -36.8742],\n",
       "        [ -469.6852,   176.1491,  -350.0755,  -149.7153,  1085.7234,    21.6072,\n",
       "          -415.2845,   304.7545,   437.1011,   582.0380],\n",
       "        [ -316.9385,   -75.8714,    52.1870,   195.9557,   264.8306,     9.0926,\n",
       "          -462.2782,   -55.1297,   481.2838,   903.9785],\n",
       "        [  -80.1411,  -376.8242,   -78.9798,   -41.0810,   -19.8076,  1129.8954,\n",
       "           560.9279,  -175.9148,   551.0778,   181.1766],\n",
       "        [   44.1736,  -596.5150,    37.2082,   383.6588,   309.5051,  -163.6001,\n",
       "          -880.8557,   628.1188,   556.1879,  1009.0805]], device='cuda:0',\n",
       "       grad_fn=<AddmmBackward>)"
      ]
     },
     "execution_count": 14,
     "metadata": {},
     "output_type": "execute_result"
    }
   ],
   "source": [
    "model(test_x[0:10].reshape(-1, 1, 28, 28))"
   ]
  },
  {
   "cell_type": "code",
   "execution_count": null,
   "metadata": {},
   "outputs": [],
   "source": []
  }
 ],
 "metadata": {
  "kernelspec": {
   "display_name": "Python 3",
   "language": "python",
   "name": "python3"
  },
  "language_info": {
   "codemirror_mode": {
    "name": "ipython",
    "version": 3
   },
   "file_extension": ".py",
   "mimetype": "text/x-python",
   "name": "python",
   "nbconvert_exporter": "python",
   "pygments_lexer": "ipython3",
   "version": "3.6.8"
  },
  "varInspector": {
   "cols": {
    "lenName": 16,
    "lenType": 16,
    "lenVar": 40
   },
   "kernels_config": {
    "python": {
     "delete_cmd_postfix": "",
     "delete_cmd_prefix": "del ",
     "library": "var_list.py",
     "varRefreshCmd": "print(var_dic_list())"
    },
    "r": {
     "delete_cmd_postfix": ") ",
     "delete_cmd_prefix": "rm(",
     "library": "var_list.r",
     "varRefreshCmd": "cat(var_dic_list()) "
    }
   },
   "types_to_exclude": [
    "module",
    "function",
    "builtin_function_or_method",
    "instance",
    "_Feature"
   ],
   "window_display": false
  }
 },
 "nbformat": 4,
 "nbformat_minor": 2
}
