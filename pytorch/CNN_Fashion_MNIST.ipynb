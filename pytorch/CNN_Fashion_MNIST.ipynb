{
 "cells": [
  {
   "cell_type": "code",
   "execution_count": 1,
   "metadata": {},
   "outputs": [],
   "source": [
    "import torch\n",
    "import torch.nn as nn\n",
    "import torch.nn.functional as F\n",
    "import torch.optim as optim\n",
    "from torch.autograd import Variable\n",
    "from torch.utils.data import DataLoader, TensorDataset\n",
    "\n",
    "import gzip\n",
    "import numpy as np\n",
    "import pandas as pd\n",
    "from sklearn import datasets\n",
    "from sklearn.model_selection import train_test_split\n",
    "import matplotlib.pyplot as plt\n",
    "import matplotlib.cm as cm\n",
    "%matplotlib inline\n",
    "\n",
    "import time"
   ]
  },
  {
   "cell_type": "code",
   "execution_count": 2,
   "metadata": {},
   "outputs": [
    {
     "data": {
      "text/plain": [
       "(60000, 784)"
      ]
     },
     "execution_count": 2,
     "metadata": {},
     "output_type": "execute_result"
    },
    {
     "data": {
      "image/png": "[encoded data removed]",
      "text/plain": [
       "<Figure size 432x288 with 1 Axes>"
      ]
     },
     "metadata": {
      "needs_background": "light"
     },
     "output_type": "display_data"
    }
   ],
   "source": [
    "with gzip.open('./data/fashion-mnist/train-images-idx3-ubyte.gz', 'rb') as f:\n",
    "    mnist_data = np.frombuffer(f.read(), np.uint8, offset=16)\n",
    "    mnist_data = mnist_data.reshape(-1, 784)\n",
    "    \n",
    "mnist_data = mnist_data / np.max(mnist_data)\n",
    "    \n",
    "plt.imshow(mnist_data[0].reshape([28,28]), cmap='gray')\n",
    "mnist_data.shape"
   ]
  },
  {
   "cell_type": "code",
   "execution_count": 3,
   "metadata": {},
   "outputs": [
    {
     "name": "stdout",
     "output_type": "stream",
     "text": [
      "(60000,)\n"
     ]
    },
    {
     "data": {
      "text/plain": [
       "10"
      ]
     },
     "execution_count": 3,
     "metadata": {},
     "output_type": "execute_result"
    }
   ],
   "source": [
    "with gzip.open('./data/fashion-mnist/train-labels-idx1-ubyte.gz', 'rb') as f:\n",
    "    mnist_label = np.frombuffer(f.read(), np.uint8, offset=8)\n",
    "\n",
    "print(mnist_label.shape)\n",
    "len(np.unique(mnist_label))"
   ]
  },
  {
   "cell_type": "code",
   "execution_count": 4,
   "metadata": {},
   "outputs": [
    {
     "name": "stdout",
     "output_type": "stream",
     "text": [
      "Train shape :  torch.Size([40200, 784]) torch.Size([40200]) \n",
      "Test shape :  torch.Size([19800, 784]) torch.Size([19800])\n"
     ]
    }
   ],
   "source": [
    "X_train, X_test, Y_train, Y_test = train_test_split(mnist_data, mnist_label, test_size=0.33)\n",
    "\n",
    "X_train = torch.from_numpy(X_train).float()\n",
    "Y_train = torch.from_numpy(Y_train).long()\n",
    "\n",
    "X_test = torch.from_numpy(X_test).float()\n",
    "Y_test = torch.from_numpy(Y_test).long()\n",
    "\n",
    "print('Train shape : ',X_train.shape, Y_train.shape,\n",
    "     '\\nTest shape : ',X_test.shape, Y_test.shape)"
   ]
  },
  {
   "cell_type": "code",
   "execution_count": 5,
   "metadata": {},
   "outputs": [],
   "source": [
    "train = TensorDataset(X_train, Y_train)\n",
    "train_loader = DataLoader(train, batch_size = 100, shuffle=True)"
   ]
  },
  {
   "cell_type": "code",
   "execution_count": 6,
   "metadata": {},
   "outputs": [],
   "source": [
    "class Net(nn.Module):\n",
    "    def __init__(self):\n",
    "        super(Net, self).__init__()\n",
    "        self.conv1 = nn.Conv2d(1, 32, 5)\n",
    "        self.pool1 = nn.MaxPool2d(2, 2)\n",
    "        self.conv2 = nn.Conv2d(32, 64, 5)\n",
    "        self.pool2 = nn.MaxPool2d(2, 2)\n",
    "        \n",
    "        self.fc1 = nn.Linear(4*4*64, 1000)\n",
    "        self.fc2 = nn.Linear(1000, 10)\n",
    "        \n",
    "    def forward(self, x):\n",
    "        x = F.relu(self.conv1(x))\n",
    "        x = self.pool1(x)\n",
    "#         x = F.max_pool2d(x, 2)\n",
    "        x = F.relu(self.conv2(x))\n",
    "        x = self.pool2(x)\n",
    "#         x = F.max_pool2d(x, 2)\n",
    "        x = x.view(-1, 4*4*64)\n",
    "        x = F.relu(self.fc1(x))\n",
    "#         x = F.dropout(x, training=self.training)\n",
    "        x = self.fc2(x)\n",
    "        return F.log_softmax(x)\n",
    "model = Net()\n",
    "model = model.cuda()\n",
    "torch.backends.cudnn.benchmark=True"
   ]
  },
  {
   "cell_type": "code",
   "execution_count": 7,
   "metadata": {},
   "outputs": [],
   "source": [
    "criterion = nn.CrossEntropyLoss()\n",
    "optimizer = optim.SGD(model.parameters(), lr=0.01)"
   ]
  },
  {
   "cell_type": "code",
   "execution_count": 8,
   "metadata": {},
   "outputs": [
    {
     "name": "stderr",
     "output_type": "stream",
     "text": [
      "C:\\Users\\my\\Anaconda3\\envs\\pytorch\\lib\\site-packages\\ipykernel_launcher.py:23: UserWarning: Implicit dimension choice for log_softmax has been deprecated. Change the call to include dim=X as an argument.\n"
     ]
    },
    {
     "name": "stdout",
     "output_type": "stream",
     "text": [
      "2 328.63032680749893\n",
      "4 258.30868449807167\n",
      "6 227.80106019973755\n",
      "8 207.12918850779533\n",
      "10 192.4823879301548\n",
      "12 180.51417788863182\n",
      "14 171.03073662519455\n",
      "16 163.0551644563675\n",
      "18 155.5251849591732\n",
      "20 150.1714456230402\n",
      "22 144.79426337778568\n",
      "24 140.68986804783344\n",
      "26 136.1021412461996\n",
      "28 132.5209854990244\n",
      "30 129.35393151640892\n",
      "32 125.39096157252789\n",
      "34 122.79280537366867\n",
      "36 120.0080553740263\n",
      "38 117.41890934109688\n",
      "40 115.23605398833752\n",
      "42 112.95709224790335\n",
      "44 110.45081475377083\n",
      "46 107.99478623270988\n",
      "48 105.84284710139036\n",
      "50 104.1241666674614\n",
      "52 101.80544673651457\n",
      "54 100.11492568999529\n",
      "56 98.54342740029097\n",
      "58 96.4520677626133\n",
      "60 94.50572993606329\n",
      "62 93.51631157845259\n",
      "64 91.6001613587141\n",
      "66 89.22082839161158\n",
      "68 87.91053934395313\n",
      "70 85.694853939116\n",
      "72 84.53275460749865\n",
      "74 82.7215255945921\n",
      "76 81.35594079643488\n",
      "78 79.35403713956475\n",
      "80 77.8212813064456\n",
      "82 76.85183221846819\n",
      "84 75.07353401184082\n",
      "86 74.06944736093283\n",
      "88 71.9874314814806\n",
      "90 70.51908425986767\n",
      "92 69.09872995316982\n",
      "94 68.03042073175311\n",
      "96 66.56908493489027\n",
      "98 64.96541107073426\n",
      "100 63.32382521778345\n",
      "Elapsed time : 222.081\n"
     ]
    }
   ],
   "source": [
    "start = time.time()\n",
    "for epoch in range(100):\n",
    "    total_loss = 0\n",
    "    for data, target in train_loader:\n",
    "        x_train, y_train = Variable(data.reshape(-1,1,28,28)).cuda(), Variable(target).cuda()\n",
    "        optimizer.zero_grad()\n",
    "        output = model(x_train)\n",
    "        loss = criterion(output, y_train)\n",
    "        loss.backward()\n",
    "        optimizer.step()\n",
    "        total_loss += loss.item()\n",
    "        \n",
    "    if (epoch + 1) % 2 == 0:\n",
    "        print(epoch+1, total_loss)\n",
    "end = time.time()\n",
    "print('Elapsed time : %.3f' % (end-start))"
   ]
  },
  {
   "cell_type": "code",
   "execution_count": 11,
   "metadata": {},
   "outputs": [],
   "source": [
    "x_test, y_test = Variable(X_test.float()).cuda(), Variable(Y_test.long()).cuda()\n",
    "x_test = x_test.reshape(-1, 1, 28, 28)"
   ]
  },
  {
   "cell_type": "code",
   "execution_count": 12,
   "metadata": {},
   "outputs": [
    {
     "name": "stderr",
     "output_type": "stream",
     "text": [
      "C:\\Users\\my\\Anaconda3\\envs\\pytorch\\lib\\site-packages\\ipykernel_launcher.py:23: UserWarning: Implicit dimension choice for log_softmax has been deprecated. Change the call to include dim=X as an argument.\n"
     ]
    },
    {
     "data": {
      "text/plain": [
       "0.897"
      ]
     },
     "execution_count": 12,
     "metadata": {},
     "output_type": "execute_result"
    }
   ],
   "source": [
    "result = torch.max(model(x_test[:15000]).data, 1)[1]\n",
    "accuracy = sum(result.cpu().numpy() == y_test[:15000].cpu().numpy()) / len(y_test[:15000].cpu().numpy())\n",
    "accuracy"
   ]
  },
  {
   "cell_type": "code",
   "execution_count": null,
   "metadata": {},
   "outputs": [],
   "source": []
  }
 ],
 "metadata": {
  "kernelspec": {
   "display_name": "Python 3",
   "language": "python",
   "name": "python3"
  },
  "language_info": {
   "codemirror_mode": {
    "name": "ipython",
    "version": 3
   },
   "file_extension": ".py",
   "mimetype": "text/x-python",
   "name": "python",
   "nbconvert_exporter": "python",
   "pygments_lexer": "ipython3",
   "version": "3.6.8"
  }
 },
 "nbformat": 4,
 "nbformat_minor": 2
}
