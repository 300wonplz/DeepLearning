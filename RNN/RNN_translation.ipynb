{
 "cells": [
  {
   "cell_type": "code",
   "execution_count": 1,
   "metadata": {},
   "outputs": [],
   "source": [
    "import tensorflow as tf\n",
    "import numpy as np"
   ]
  },
  {
   "cell_type": "code",
   "execution_count": 2,
   "metadata": {},
   "outputs": [],
   "source": [
    "char_arr = [c for c in 'SEPabcdefghijklmnopqrstuvwxyz단어나무놀이소녀키스사랑']\n",
    "num_dic = {n:i for i, n in enumerate(char_arr)}\n",
    "dic_len = len(num_dic)\n",
    "\n",
    "seq_data = [['word', '단어'], ['wood', '나무'],\n",
    "            ['game', '놀이'], ['girl', '소녀'],\n",
    "            ['kiss', '키스'], ['love', '사랑']]"
   ]
  },
  {
   "cell_type": "code",
   "execution_count": 3,
   "metadata": {},
   "outputs": [],
   "source": [
    "def make_batch(seq_data):\n",
    "    input_batch = []\n",
    "    output_batch = []\n",
    "    target_batch = []\n",
    "    \n",
    "    for seq in seq_data:\n",
    "        inputs = [num_dic[n] for n in seq[0]]\n",
    "        outputs = [num_dic[n] for n in ('S'+seq[1])]\n",
    "        targets = [num_dic[n] for n in (seq[1] + 'E')]\n",
    "        \n",
    "        input_batch.append(np.eye(dic_len)[inputs])\n",
    "        output_batch.append(np.eye(dic_len)[outputs])\n",
    "        target_batch.append(targets)\n",
    "    return input_batch, output_batch, target_batch"
   ]
  },
  {
   "cell_type": "code",
   "execution_count": 4,
   "metadata": {},
   "outputs": [],
   "source": [
    "learning_rate = 0.01\n",
    "n_hidden = 128\n",
    "total_epoch = 100\n",
    "\n",
    "n_class = n_input = dic_len"
   ]
  },
  {
   "cell_type": "code",
   "execution_count": 5,
   "metadata": {},
   "outputs": [],
   "source": [
    "enc_input = tf.placeholder(tf.float32, [None, None, n_input])\n",
    "dec_input = tf.placeholder(tf.float32, [None, None, n_input])\n",
    "targets = tf.placeholder(tf.int64, [None, None])"
   ]
  },
  {
   "cell_type": "code",
   "execution_count": 6,
   "metadata": {},
   "outputs": [
    {
     "name": "stdout",
     "output_type": "stream",
     "text": [
      "WARNING:tensorflow:From <ipython-input-6-9ba7ff2f8d59>:2: BasicRNNCell.__init__ (from tensorflow.python.ops.rnn_cell_impl) is deprecated and will be removed in a future version.\n",
      "Instructions for updating:\n",
      "This class is equivalent as tf.keras.layers.SimpleRNNCell, and will be replaced by that in Tensorflow 2.0.\n"
     ]
    }
   ],
   "source": [
    "with tf.variable_scope('encode'):\n",
    "    enc_cell = tf.nn.rnn_cell.BasicRNNCell(n_hidden)\n",
    "    enc_cell = tf.nn.rnn_cell.DropoutWrapper(enc_cell, output_keep_prob=0.5)\n",
    "    \n",
    "    outputs, enc_states = tf.nn.dynamic_rnn(enc_cell, enc_input, dtype=tf.float32)\n",
    "    \n",
    "\n",
    "with tf.variable_scope('decode'):\n",
    "    dec_cell = tf.nn.rnn_cell.BasicRNNCell(n_hidden)\n",
    "    dec_cell = tf.nn.rnn_cell.DropoutWrapper(dec_cell, output_keep_prob=0.5)\n",
    "    \n",
    "    outputs, enc_states = tf.nn.dynamic_rnn(dec_cell, dec_input,initial_state=enc_states, dtype=tf.float32)"
   ]
  },
  {
   "cell_type": "code",
   "execution_count": 7,
   "metadata": {},
   "outputs": [],
   "source": [
    "model = tf.layers.dense(outputs, n_class, activation=None)\n",
    "cost = tf.reduce_mean(tf.nn.sparse_softmax_cross_entropy_with_logits(logits=model, labels=targets))\n",
    "optimizer = tf.train.AdamOptimizer(learning_rate).minimize(cost)"
   ]
  },
  {
   "cell_type": "code",
   "execution_count": 22,
   "metadata": {},
   "outputs": [
    {
     "name": "stdout",
     "output_type": "stream",
     "text": [
      "Epoch: 0001 cost = 3.76142\n",
      "Epoch: 0002 cost = 2.57243\n",
      "Epoch: 0003 cost = 1.57234\n",
      "Epoch: 0004 cost = 1.17653\n",
      "Epoch: 0005 cost = 0.985997\n",
      "Epoch: 0006 cost = 0.599899\n",
      "Epoch: 0007 cost = 0.276501\n",
      "Epoch: 0008 cost = 0.189738\n",
      "Epoch: 0009 cost = 0.164975\n",
      "Epoch: 0010 cost = 0.179889\n",
      "Epoch: 0011 cost = 0.263364\n",
      "Epoch: 0012 cost = 0.145112\n",
      "Epoch: 0013 cost = 0.0652032\n",
      "Epoch: 0014 cost = 0.0699048\n",
      "Epoch: 0015 cost = 0.116386\n",
      "Epoch: 0016 cost = 0.043963\n",
      "Epoch: 0017 cost = 0.0669734\n",
      "Epoch: 0018 cost = 0.0195328\n",
      "Epoch: 0019 cost = 0.0262431\n",
      "Epoch: 0020 cost = 0.0304619\n",
      "Epoch: 0021 cost = 0.00687507\n",
      "Epoch: 0022 cost = 0.0123241\n",
      "Epoch: 0023 cost = 0.0270931\n",
      "Epoch: 0024 cost = 0.00527618\n",
      "Epoch: 0025 cost = 0.0621886\n",
      "Epoch: 0026 cost = 0.00535418\n",
      "Epoch: 0027 cost = 0.0111506\n",
      "Epoch: 0028 cost = 0.00348653\n",
      "Epoch: 0029 cost = 0.0105707\n",
      "Epoch: 0030 cost = 0.00747291\n",
      "Epoch: 0031 cost = 0.00754337\n",
      "Epoch: 0032 cost = 0.014588\n",
      "Epoch: 0033 cost = 0.00624373\n",
      "Epoch: 0034 cost = 0.00260189\n",
      "Epoch: 0035 cost = 0.00139205\n",
      "Epoch: 0036 cost = 0.00751587\n",
      "Epoch: 0037 cost = 0.0019173\n",
      "Epoch: 0038 cost = 0.00385036\n",
      "Epoch: 0039 cost = 0.00260185\n",
      "Epoch: 0040 cost = 0.000744727\n",
      "Epoch: 0041 cost = 0.00368517\n",
      "Epoch: 0042 cost = 0.00478408\n",
      "Epoch: 0043 cost = 0.000939426\n",
      "Epoch: 0044 cost = 0.00160056\n",
      "Epoch: 0045 cost = 0.000679233\n",
      "Epoch: 0046 cost = 0.000969238\n",
      "Epoch: 0047 cost = 0.00265544\n",
      "Epoch: 0048 cost = 0.00036397\n",
      "Epoch: 0049 cost = 0.00203422\n",
      "Epoch: 0050 cost = 0.000768415\n",
      "Epoch: 0051 cost = 0.00322576\n",
      "Epoch: 0052 cost = 0.000831511\n",
      "Epoch: 0053 cost = 0.0021365\n",
      "Epoch: 0054 cost = 0.00237552\n",
      "Epoch: 0055 cost = 0.00235535\n",
      "Epoch: 0056 cost = 0.000645533\n",
      "Epoch: 0057 cost = 0.00125234\n",
      "Epoch: 0058 cost = 0.000538312\n",
      "Epoch: 0059 cost = 0.00474967\n",
      "Epoch: 0060 cost = 0.000400243\n",
      "Epoch: 0061 cost = 0.00187135\n",
      "Epoch: 0062 cost = 0.000782484\n",
      "Epoch: 0063 cost = 0.00102939\n",
      "Epoch: 0064 cost = 0.00182997\n",
      "Epoch: 0065 cost = 0.000874094\n",
      "Epoch: 0066 cost = 0.000512762\n",
      "Epoch: 0067 cost = 0.000659993\n",
      "Epoch: 0068 cost = 0.000302311\n",
      "Epoch: 0069 cost = 0.000264998\n",
      "Epoch: 0070 cost = 0.000437755\n",
      "Epoch: 0071 cost = 0.000748674\n",
      "Epoch: 0072 cost = 0.000411037\n",
      "Epoch: 0073 cost = 0.000492172\n",
      "Epoch: 0074 cost = 0.000727234\n",
      "Epoch: 0075 cost = 0.000992296\n",
      "Epoch: 0076 cost = 0.000720085\n",
      "Epoch: 0077 cost = 0.000663404\n",
      "Epoch: 0078 cost = 0.000671428\n",
      "Epoch: 0079 cost = 0.000392045\n",
      "Epoch: 0080 cost = 0.000560294\n",
      "Epoch: 0081 cost = 0.000489431\n",
      "Epoch: 0082 cost = 0.000759182\n",
      "Epoch: 0083 cost = 0.000631275\n",
      "Epoch: 0084 cost = 0.000343801\n",
      "Epoch: 0085 cost = 0.000209153\n",
      "Epoch: 0086 cost = 0.000791668\n",
      "Epoch: 0087 cost = 0.000158928\n",
      "Epoch: 0088 cost = 0.00024898\n",
      "Epoch: 0089 cost = 0.00036322\n",
      "Epoch: 0090 cost = 0.000169413\n",
      "Epoch: 0091 cost = 0.000327941\n",
      "Epoch: 0092 cost = 0.00018702\n",
      "Epoch: 0093 cost = 0.000460534\n",
      "Epoch: 0094 cost = 0.000355382\n",
      "Epoch: 0095 cost = 0.000211073\n",
      "Epoch: 0096 cost = 0.000234565\n",
      "Epoch: 0097 cost = 0.000415692\n",
      "Epoch: 0098 cost = 0.000230922\n",
      "Epoch: 0099 cost = 0.000373448\n",
      "Epoch: 0100 cost = 0.00027189\n",
      "최적화 완료\n"
     ]
    }
   ],
   "source": [
    "sess = tf.Session()\n",
    "sess.run(tf.global_variables_initializer())\n",
    "\n",
    "input_batch,output_batch, target_batch = make_batch(seq_data)\n",
    "\n",
    "for epoch in range(total_epoch):\n",
    "    _, loss = sess.run([optimizer, cost], feed_dict = {enc_input:input_batch, dec_input:output_batch,targets:target_batch})\n",
    "    \n",
    "    print('Epoch:', '%04d'%(epoch + 1),'cost =','{:.6}'.format(loss))\n",
    "print('최적화 완료')"
   ]
  },
  {
   "cell_type": "code",
   "execution_count": 23,
   "metadata": {},
   "outputs": [],
   "source": [
    "def translate(word):\n",
    "    seq_data = [word, 'p' * len(word)]\n",
    "    \n",
    "    input_batch, output_batch, target_batch = make_batch([seq_data])\n",
    "    prediction = tf.argmax(model, 2)\n",
    "    \n",
    "    result = sess.run(prediction, feed_dict={enc_input:input_batch, dec_input: output_batch, targets:target_batch})\n",
    "    decoded = [char_arr[i] for i in result[0]]\n",
    "    end = decoded.index('E')\n",
    "    translated = ''.join(decoded[:end])\n",
    "    return translated"
   ]
  },
  {
   "cell_type": "code",
   "execution_count": 24,
   "metadata": {},
   "outputs": [
    {
     "name": "stdout",
     "output_type": "stream",
     "text": [
      "\n",
      "=== 번역 테스트 ===\n",
      "word -> 단어\n",
      "wodr -> 나무\n",
      "love -> 사랑\n",
      "loev -> 사랑\n",
      "koss -> 키스\n"
     ]
    }
   ],
   "source": [
    "print('\\n=== 번역 테스트 ===')\n",
    "print('word ->',translate('word'))\n",
    "print('wodr ->',translate('wodr'))\n",
    "print('love ->',translate('love'))\n",
    "print('loev ->',translate('loev'))\n",
    "print('koss ->',translate('koss'))"
   ]
  }
 ],
 "metadata": {
  "kernelspec": {
   "display_name": "Python 3",
   "language": "python",
   "name": "python3"
  },
  "language_info": {
   "codemirror_mode": {
    "name": "ipython",
    "version": 3
   },
   "file_extension": ".py",
   "mimetype": "text/x-python",
   "name": "python",
   "nbconvert_exporter": "python",
   "pygments_lexer": "ipython3",
   "version": "3.6.8"
  },
  "varInspector": {
   "cols": {
    "lenName": 16,
    "lenType": 16,
    "lenVar": 40
   },
   "kernels_config": {
    "python": {
     "delete_cmd_postfix": "",
     "delete_cmd_prefix": "del ",
     "library": "var_list.py",
     "varRefreshCmd": "print(var_dic_list())"
    },
    "r": {
     "delete_cmd_postfix": ") ",
     "delete_cmd_prefix": "rm(",
     "library": "var_list.r",
     "varRefreshCmd": "cat(var_dic_list()) "
    }
   },
   "types_to_exclude": [
    "module",
    "function",
    "builtin_function_or_method",
    "instance",
    "_Feature"
   ],
   "window_display": false
  }
 },
 "nbformat": 4,
 "nbformat_minor": 2
}
