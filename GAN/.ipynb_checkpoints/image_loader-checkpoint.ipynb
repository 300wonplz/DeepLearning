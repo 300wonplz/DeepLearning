{
 "cells": [
  {
   "cell_type": "code",
   "execution_count": 35,
   "metadata": {},
   "outputs": [],
   "source": [
    "from PIL import Image\n",
    "import matplotlib.pyplot as plt\n",
    "import numpy as np\n",
    "import os"
   ]
  },
  {
   "cell_type": "code",
   "execution_count": 93,
   "metadata": {},
   "outputs": [],
   "source": [
    "def load(path, size):\n",
    "    file_name = os.listdir(path)\n",
    "\n",
    "    data = []\n",
    "\n",
    "    for file in file_name[0:size]:\n",
    "        img = Image.open(path+file, 'r')\n",
    "        resized_img = img.resize((256,256))\n",
    "\n",
    "        r, g, b = resized_img.split()\n",
    "        r_resized_img = np.asarray(np.float32(r) / 255.)\n",
    "        g_resized_img = np.asarray(np.float32(g) / 255.)\n",
    "        b_resized_img = np.asarray(np.float32(b) / 255.)\n",
    "\n",
    "        rgb_resized_img = np.asarray([r_resized_img, g_resized_img, b_resized_img])\n",
    "\n",
    "        data.append(rgb_resized_img)\n",
    "        \n",
    "    return data"
   ]
  }
 ],
 "metadata": {
  "kernelspec": {
   "display_name": "Python 3",
   "language": "python",
   "name": "python3"
  },
  "language_info": {
   "codemirror_mode": {
    "name": "ipython",
    "version": 3
   },
   "file_extension": ".py",
   "mimetype": "text/x-python",
   "name": "python",
   "nbconvert_exporter": "python",
   "pygments_lexer": "ipython3",
   "version": "3.6.8"
  }
 },
 "nbformat": 4,
 "nbformat_minor": 2
}
