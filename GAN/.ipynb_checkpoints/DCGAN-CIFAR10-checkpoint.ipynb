{
 "cells": [
  {
   "cell_type": "code",
   "execution_count": 1,
   "metadata": {},
   "outputs": [],
   "source": [
    "import tensorflow as tf\n",
    "import numpy as np\n",
    "import matplotlib.pyplot as plt\n",
    "from PIL import Image\n",
    "from tensorflow.keras.datasets.cifar10 import load_data"
   ]
  },
  {
   "cell_type": "code",
   "execution_count": 2,
   "metadata": {},
   "outputs": [],
   "source": [
    "(x_train, y_train), (x_test, y_test) = load_data()"
   ]
  },
  {
   "cell_type": "code",
   "execution_count": 3,
   "metadata": {},
   "outputs": [],
   "source": [
    "def next_batch(num, data):\n",
    "    idx = np.arange(0 , len(data))\n",
    "    np.random.shuffle(idx)\n",
    "    idx = idx[:num]\n",
    "    data_shuffle = [data[i] for i in idx]\n",
    "\n",
    "    return np.asarray(data_shuffle)"
   ]
  },
  {
   "cell_type": "code",
   "execution_count": 4,
   "metadata": {},
   "outputs": [
    {
     "data": {
      "text/plain": [
       "(50000, 32, 32, 3)"
      ]
     },
     "execution_count": 4,
     "metadata": {},
     "output_type": "execute_result"
    }
   ],
   "source": [
    "x_train.shape"
   ]
  },
  {
   "cell_type": "code",
   "execution_count": 5,
   "metadata": {},
   "outputs": [],
   "source": [
    "total_epoch = 200\n",
    "batch_size = 100\n",
    "n_noise = 100\n",
    "\n",
    "D_global_step = tf.Variable(0, trainable=False, name='D_global_step')\n",
    "G_global_step = tf.Variable(0, trainable=False, name='G_global_step')\n",
    "\n",
    "X = tf.placeholder(tf.float32, [None, 32, 32, 3])\n",
    "Z = tf.placeholder(tf.float32, [None, n_noise])\n",
    "is_training = tf.placeholder(tf.bool)"
   ]
  },
  {
   "cell_type": "code",
   "execution_count": 6,
   "metadata": {},
   "outputs": [],
   "source": [
    "def generator(noise):\n",
    "    with tf.variable_scope('generator'):\n",
    "        output = tf.layers.dense(noise, 2*2*128)\n",
    "        output = tf.reshape(output, [-1, 2, 2, 128])\n",
    "        output = tf.layers.conv2d_transpose(output, 64, [5, 5], strides=(2, 2), padding='SAME')\n",
    "        output = tf.nn.relu(tf.layers.batch_normalization(output, training=is_training))\n",
    "        output = tf.layers.conv2d_transpose(output, 32, [5, 5], strides=(2, 2), padding='SAME')\n",
    "        output = tf.nn.relu(tf.layers.batch_normalization(output, training=is_training))\n",
    "        output = tf.layers.conv2d_transpose(output, 16, [5, 5], strides=(2, 2), padding='SAME')\n",
    "        output = tf.nn.relu(tf.layers.batch_normalization(output, training=is_training))\n",
    "        output = tf.layers.conv2d_transpose(output, 3, [5, 5], strides=(2, 2), padding='SAME')\n",
    "        output = tf.nn.tanh(output)\n",
    "    return output\n",
    "\n",
    "def discriminator(inputs, reuse=None):\n",
    "    with tf.variable_scope('discriminator') as scope:\n",
    "        if reuse:\n",
    "            scope.reuse_variables()\n",
    "        output = tf.layers.conv2d(inputs, 16, [5,5], strides=(2,2),padding='SAME')\n",
    "        output = tf.nn.leaky_relu(tf.layers.batch_normalization(output,training=is_training))\n",
    "        output = tf.layers.conv2d(output, 32, [5,5], strides=(2,2),padding='SAME')\n",
    "        output = tf.nn.leaky_relu(tf.layers.batch_normalization(output,training=is_training))\n",
    "        output = tf.layers.conv2d(output, 64, [5,5], strides=(2,2), padding='SAME')\n",
    "        output = tf.nn.leaky_relu(tf.layers.batch_normalization(output, training=is_training))\n",
    "        output = tf.layers.conv2d(output, 128, [5,5], strides=(2,2),padding='SAME')\n",
    "        output = tf.nn.leaky_relu(tf.layers.batch_normalization(output,training=is_training))\n",
    "        flat = tf.contrib.layers.flatten(output)\n",
    "        output = tf.layers.dense(flat, 1)\n",
    "    return output\n",
    "                                           "
   ]
  },
  {
   "cell_type": "code",
   "execution_count": 7,
   "metadata": {},
   "outputs": [],
   "source": [
    "def get_noise(batch_size, n_noise):\n",
    "    return np.random.uniform(-1, 1, size=[batch_size, n_noise])"
   ]
  },
  {
   "cell_type": "code",
   "execution_count": 8,
   "metadata": {},
   "outputs": [],
   "source": [
    "G = generator(Z)\n",
    "D_real = discriminator(X)\n",
    "D_gene = discriminator(G, True)"
   ]
  },
  {
   "cell_type": "code",
   "execution_count": 9,
   "metadata": {},
   "outputs": [],
   "source": [
    "# loss_D = tf.reduce_mean(tf.log(D_real) + tf.log(1 - D_gene))\n",
    "# loss_G = tf.reduce_mean(tf.log(D_gene))\n",
    "loss_D_real = tf.reduce_mean(tf.nn.sigmoid_cross_entropy_with_logits(\n",
    "    logits=D_real, labels=tf.ones_like(D_real)\n",
    "))\n",
    "loss_D_gene = tf.reduce_mean(tf.nn.sigmoid_cross_entropy_with_logits(\n",
    "    logits=D_gene, labels=tf.zeros_like(D_gene)\n",
    "))\n",
    " \n",
    "    \n",
    "loss_D = loss_D_real + loss_D_gene\n",
    "loss_G = tf.reduce_mean(tf.nn.sigmoid_cross_entropy_with_logits(\n",
    "    logits=D_gene, labels=tf.ones_like(D_gene)\n",
    "))"
   ]
  },
  {
   "cell_type": "code",
   "execution_count": 10,
   "metadata": {},
   "outputs": [],
   "source": [
    "vars_D = tf.get_collection(tf.GraphKeys.TRAINABLE_VARIABLES, scope='discriminator')\n",
    "vars_G = tf.get_collection(tf.GraphKeys.TRAINABLE_VARIABLES, scope='generator')\n",
    "\n",
    "train_D = tf.train.AdamOptimizer(0.001).minimize(loss_D, var_list = vars_D, global_step=D_global_step)\n",
    "train_G = tf.train.AdamOptimizer(0.001).minimize(loss_G, var_list = vars_G, global_step=G_global_step)"
   ]
  },
  {
   "cell_type": "code",
   "execution_count": null,
   "metadata": {},
   "outputs": [
    {
     "name": "stdout",
     "output_type": "stream",
     "text": [
      "Epoch: 0000 D loss: 0.08222 G loss: 7.206\n",
      "Epoch: 0004 D loss: 0.5705 G loss: 4.465\n",
      "Epoch: 0009 D loss: 0.001951 G loss: 8.845\n",
      "Epoch: 0014 D loss: 7.265e-05 G loss: 14.1\n",
      "Epoch: 0019 D loss: 0.002245 G loss: 8.67\n",
      "Epoch: 0024 D loss: 0.1082 G loss: 7.348\n",
      "Epoch: 0029 D loss: 0.0289 G loss: 6.01\n",
      "Epoch: 0034 D loss: 0.01514 G loss: 5.847\n",
      "Epoch: 0039 D loss: 0.3993 G loss: 5.032\n",
      "Epoch: 0044 D loss: 0.03506 G loss: 8.201\n",
      "Epoch: 0049 D loss: 7.357e-05 G loss: 10.41\n",
      "Epoch: 0054 D loss: 3.224e-06 G loss: 12.76\n",
      "Epoch: 0059 D loss: 3.438e-07 G loss: 14.97\n",
      "Epoch: 0064 D loss: 1.109e-07 G loss: 16.53\n",
      "Epoch: 0069 D loss: 2.158e-07 G loss: 17.13\n",
      "Epoch: 0074 D loss: 2.425e-08 G loss: 18.19\n"
     ]
    }
   ],
   "source": [
    "tf.summary.scalar('loss_D', loss_D)\n",
    "tf.summary.scalar('loss_G', loss_G)\n",
    "\n",
    "with tf.Session() as sess:\n",
    "    sess.run(tf.global_variables_initializer())\n",
    "    \n",
    "    merged = tf.summary.merge_all()\n",
    "    writer = tf.summary.FileWriter('./DCGAN_logs', sess.graph)\n",
    "    \n",
    "    total_batch = int(len(x_train) / batch_size)\n",
    "    \n",
    "    for epoch in range(total_epoch):\n",
    "        for i in range(total_batch):\n",
    "            batch_xs = next_batch(batch_size, x_train)\n",
    "            batch_xs = batch_xs.reshape(-1, 32, 32, 3)\n",
    "            noise = get_noise(batch_size, n_noise)\n",
    "\n",
    "            _, loss_val_D = sess.run([train_D, loss_D], feed_dict={X:batch_xs, Z:noise, is_training:True})\n",
    "            _, loss_val_G = sess.run([train_G, loss_G], feed_dict={Z:noise, is_training: True})\n",
    "        \n",
    "        summary = sess.run(merged, feed_dict={X:batch_xs, Z:noise, is_training:True})\n",
    "        writer.add_summary(summary, global_step=sess.run(G_global_step))\n",
    "\n",
    "        if epoch == 0 or (epoch + 1) % 5 == 0:\n",
    "            print('Epoch:', '%04d'%epoch, 'D loss: {:.4}'.format(loss_val_D), 'G loss: {:.4}'.format(loss_val_G))\n",
    "            sample_size = 10\n",
    "            noise = get_noise(sample_size, n_noise)\n",
    "            samples = sess.run(G, feed_dict={Z:noise, is_training:False})\n",
    "\n",
    "            fig, ax = plt.subplots(1, sample_size, figsize=(sample_size, 1))\n",
    "            for i in range(sample_size):\n",
    "                ax[i].set_axis_off()\n",
    "                ax[i].imshow((samples[i] * 255).astype(np.uint8))\n",
    "\n",
    "            plt.savefig('./DCGAN_CIFAR10/{}.png'.format(str(epoch).zfill(3)), bbox_inches='tight')"
   ]
  },
  {
   "cell_type": "code",
   "execution_count": null,
   "metadata": {},
   "outputs": [],
   "source": []
  }
 ],
 "metadata": {
  "kernelspec": {
   "display_name": "Python 3",
   "language": "python",
   "name": "python3"
  },
  "language_info": {
   "codemirror_mode": {
    "name": "ipython",
    "version": 3
   },
   "file_extension": ".py",
   "mimetype": "text/x-python",
   "name": "python",
   "nbconvert_exporter": "python",
   "pygments_lexer": "ipython3",
   "version": "3.6.8"
  },
  "varInspector": {
   "cols": {
    "lenName": 16,
    "lenType": 16,
    "lenVar": 40
   },
   "kernels_config": {
    "python": {
     "delete_cmd_postfix": "",
     "delete_cmd_prefix": "del ",
     "library": "var_list.py",
     "varRefreshCmd": "print(var_dic_list())"
    },
    "r": {
     "delete_cmd_postfix": ") ",
     "delete_cmd_prefix": "rm(",
     "library": "var_list.r",
     "varRefreshCmd": "cat(var_dic_list()) "
    }
   },
   "types_to_exclude": [
    "module",
    "function",
    "builtin_function_or_method",
    "instance",
    "_Feature"
   ],
   "window_display": false
  }
 },
 "nbformat": 4,
 "nbformat_minor": 2
}
