{
 "cells": [
  {
   "cell_type": "code",
   "execution_count": 1,
   "metadata": {},
   "outputs": [],
   "source": [
    "import torch\n",
    "import torch.nn as nn\n",
    "import torch.nn.functional as F\n",
    "import torch.optim as optim\n",
    "from torch.autograd import Variable\n",
    "from torch.utils.data import DataLoader, TensorDataset\n",
    "from torchvision import datasets, transforms\n",
    "\n",
    "from sklearn.model_selection import train_test_split\n",
    "\n",
    "import pandas as pd\n",
    "\n",
    "import matplotlib.pyplot as plt\n",
    "import numpy as np\n",
    "import time"
   ]
  },
  {
   "cell_type": "code",
   "execution_count": 2,
   "metadata": {},
   "outputs": [],
   "source": [
    "def get_noise(batch_size, n_noise):\n",
    "    return np.random.uniform(-1, 1, (batch_size, n_noise))"
   ]
  },
  {
   "cell_type": "code",
   "execution_count": 3,
   "metadata": {},
   "outputs": [],
   "source": [
    "def get_one_hot(targets, nb_classes):\n",
    "    res = np.eye(nb_classes)[np.array(targets.cpu().int()).reshape(-1)]\n",
    "    return res.reshape(list(targets.shape)+[nb_classes])"
   ]
  },
  {
   "cell_type": "code",
   "execution_count": 4,
   "metadata": {},
   "outputs": [],
   "source": [
    "n_noise = 100\n",
    "n_channel = 1\n",
    "batch_size = 100\n",
    "condition = []"
   ]
  },
  {
   "cell_type": "code",
   "execution_count": 5,
   "metadata": {},
   "outputs": [],
   "source": [
    "transform = transforms.Compose([\n",
    "    transforms.ToTensor(), \n",
    "    transforms.Normalize(mean=(0.5,0.5,0.5),std=(0.5,0.5,0.5))\n",
    "    ])"
   ]
  },
  {
   "cell_type": "code",
   "execution_count": 6,
   "metadata": {},
   "outputs": [],
   "source": [
    "train_data = datasets.MNIST(root='../../datasets/MNIST', train=True, download=True, transform=transform)\n",
    "test_data = datasets.MNIST(root='../../datasets/MNIST', train=False, download=True, transform=transform)"
   ]
  },
  {
   "cell_type": "code",
   "execution_count": 7,
   "metadata": {},
   "outputs": [],
   "source": [
    "train_loader = DataLoader(train_data, batch_size = batch_size, shuffle=True)\n",
    "test_loader = DataLoader(test_data, batch_size = batch_size, shuffle=False)"
   ]
  },
  {
   "cell_type": "code",
   "execution_count": 8,
   "metadata": {},
   "outputs": [],
   "source": [
    "class Generator(nn.Module):\n",
    "    \n",
    "    def __init__(self):\n",
    "        super(Generator, self).__init__()\n",
    "        \n",
    "        # 1, 100\n",
    "        self.fc1 = nn.Linear(n_noise+10, 128*7*7)\n",
    "            \n",
    "        self.conv = nn.Sequential(\n",
    "            nn.ConvTranspose2d(128, 64, 3, 2, 1, output_padding=1),\n",
    "            nn.BatchNorm2d(64),\n",
    "            nn.ReLU(),\n",
    "            \n",
    "            nn.ConvTranspose2d(64, 32, 3, 2, 1, output_padding=1),\n",
    "            nn.BatchNorm2d(32),\n",
    "            nn.ReLU(),\n",
    "            \n",
    "            nn.ConvTranspose2d(32, n_channel, 3, 1, 1)\n",
    "        )\n",
    "        \n",
    "    def forward(self, x):\n",
    "        x = self.fc1(x)\n",
    "        x = x.reshape(-1, 128, 7, 7)\n",
    "        x = self.conv(x)\n",
    "        return F.tanh(x)"
   ]
  },
  {
   "cell_type": "code",
   "execution_count": 9,
   "metadata": {},
   "outputs": [],
   "source": [
    "class Discriminator(nn.Module):\n",
    "    def __init__(self):\n",
    "        super(Discriminator, self).__init__()\n",
    "        \n",
    "        self.fc1= nn.Linear(28*28+10, 28*28)\n",
    "        \n",
    "        self.conv = nn.Sequential(\n",
    "            nn.Conv2d(n_channel, 16, 3, 1, 1),\n",
    "            nn.LeakyReLU(0.2),\n",
    "            nn.MaxPool2d(2,2),\n",
    "            \n",
    "            nn.Conv2d(16, 32, 3, 1, 1),\n",
    "            nn.BatchNorm2d(32),\n",
    "            nn.LeakyReLU(0.2),\n",
    "            \n",
    "            nn.Conv2d(32, 64, 3, 1, 1),\n",
    "            nn.BatchNorm2d(64),\n",
    "            nn.LeakyReLU(0.2),\n",
    "            \n",
    "            nn.Conv2d(64, 128, 3, 1, 1),\n",
    "            nn.BatchNorm2d(128),\n",
    "            nn.LeakyReLU(0.2),\n",
    "            nn.MaxPool2d(2,2),\n",
    "            \n",
    "\n",
    "            nn.Conv2d(128, 128, 3, 1, 1)       \n",
    "        )\n",
    "        \n",
    "        self.fc2 = nn.Linear(128*7*7, 1)\n",
    "        \n",
    "    def forward(self, x, y):\n",
    "        x = torch.cat((x.float().reshape(-1, 28*28), y.float()), 1)\n",
    "        x = self.fc1(x).reshape(-1, 1, 28 ,28)\n",
    "        x = self.conv(x).reshape(-1, 128*7*7)\n",
    "        x = self.fc2(x)\n",
    "        \n",
    "        return F.sigmoid(x)\n"
   ]
  },
  {
   "cell_type": "code",
   "execution_count": 11,
   "metadata": {},
   "outputs": [],
   "source": [
    "device = torch.device(\"cuda:0\" if torch.cuda.is_available() else \"cpu\")\n",
    "\n",
    "G = Generator()\n",
    "D = Discriminator()\n",
    "\n",
    "G = G.to(device)\n",
    "D = D.to(device)\n",
    "\n",
    "criterion = nn.BCELoss()\n",
    "optimizerG = optim.Adam(G.parameters(), lr=0.0002)\n",
    "optimizerD = optim.Adam(D.parameters(), lr=0.0002)"
   ]
  },
  {
   "cell_type": "code",
   "execution_count": null,
   "metadata": {},
   "outputs": [],
   "source": [
    "print(\"Training start\")\n",
    "start = time.time()\n",
    "\n",
    "test_label = torch.from_numpy(get_one_hot(test_data.test_labels[0:10], 10)).to(device).float()\n",
    "\n",
    "\n",
    "for epoch in range(200):\n",
    "    for data, target in train_loader:\n",
    "        G.train()\n",
    "        train_x, train_y = data.reshape(-1, 1, 28, 28).to(device), target.to(device)\n",
    "        train_y = torch.from_numpy(get_one_hot(train_y, 10)).to(device)\n",
    "        \n",
    "        #training Discriminator\n",
    "        optimizerD.zero_grad()\n",
    "        d_real_data = train_x.to(device)\n",
    "        d_real_output = D(d_real_data, train_y)\n",
    "        d_real_error = criterion(d_real_output, torch.ones(batch_size).reshape(batch_size,1).to(device))\n",
    "        \n",
    "        d_gen_input = torch.from_numpy(get_noise(batch_size, n_noise)).float().to(device)\n",
    "        d_gen_input = torch.cat((d_gen_input, train_y.float()), 1)\n",
    "        d_fake_data = G(d_gen_input.float()).detach()\n",
    "        d_fake_output = D(d_fake_data, train_y)\n",
    "        d_fake_error = criterion(d_fake_output, torch.zeros(batch_size).reshape(batch_size,1).to(device))\n",
    "\n",
    "        d_train_loss = d_real_error + d_fake_error\n",
    "        d_train_loss.backward()\n",
    "        optimizerD.step()\n",
    "        \n",
    "        \n",
    "        #training Generator\n",
    "        optimizerG.zero_grad()\n",
    "#         g_data = torch.from_numpy(get_noise(batch_size, n_noise)).float().to(device)\n",
    "        \n",
    "        g_fake_output = G(d_gen_input)\n",
    "        gd_fake_output = D(g_fake_output, train_y)\n",
    "        g_error = criterion(gd_fake_output, torch.ones(batch_size).reshape(batch_size,1).to(device))\n",
    "        g_error.backward()\n",
    "        \n",
    "        optimizerG.step()\n",
    "    \n",
    "    \n",
    "        lossD = d_train_loss\n",
    "        lossG = g_error\n",
    "    G.eval()\n",
    "    print('epoch %d'%epoch, 'lossD',lossD.data,'lossG',lossG.data)\n",
    "    \n",
    "    test_noise = torch.from_numpy(get_noise(10, n_noise)).to(device).float()\n",
    "    test_noise = torch.cat((test_noise.float(), test_label), 1)\n",
    "    \n",
    "    image = G(test_noise)\n",
    "    fig, ax = plt.subplots(1, 10, figsize=(15,4))\n",
    "    for i in range(10):\n",
    "        ax[i].set_axis_off()\n",
    "        ax[i].imshow(image[i].cpu().data.numpy().reshape(28, 28))\n",
    "    plt.savefig('./cGAN_pytorch_MNIST_samples/{}.png'.format(str(epoch+200).zfill(3)), bbox_inches='tight')\n",
    "    plt.close()\n",
    "        \n",
    "end = time.time()\n",
    "\n",
    "print('Elapsed Time : %.3f sec'%(end-start))"
   ]
  }
 ],
 "metadata": {
  "kernelspec": {
   "display_name": "Python 3",
   "language": "python",
   "name": "python3"
  },
  "language_info": {
   "codemirror_mode": {
    "name": "ipython",
    "version": 3
   },
   "file_extension": ".py",
   "mimetype": "text/x-python",
   "name": "python",
   "nbconvert_exporter": "python",
   "pygments_lexer": "ipython3",
   "version": "3.6.8"
  },
  "varInspector": {
   "cols": {
    "lenName": 16,
    "lenType": 16,
    "lenVar": 40
   },
   "kernels_config": {
    "python": {
     "delete_cmd_postfix": "",
     "delete_cmd_prefix": "del ",
     "library": "var_list.py",
     "varRefreshCmd": "print(var_dic_list())"
    },
    "r": {
     "delete_cmd_postfix": ") ",
     "delete_cmd_prefix": "rm(",
     "library": "var_list.r",
     "varRefreshCmd": "cat(var_dic_list()) "
    }
   },
   "types_to_exclude": [
    "module",
    "function",
    "builtin_function_or_method",
    "instance",
    "_Feature"
   ],
   "window_display": false
  }
 },
 "nbformat": 4,
 "nbformat_minor": 2
}
