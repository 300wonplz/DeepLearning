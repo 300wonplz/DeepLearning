{
 "cells": [
  {
   "cell_type": "code",
   "execution_count": 1,
   "metadata": {},
   "outputs": [],
   "source": [
    "import torch\n",
    "import torch.nn as nn\n",
    "import torch.nn.functional as F\n",
    "import torch.optim as optim\n",
    "from torch.autograd import Variable\n",
    "from torch.utils.data import DataLoader, TensorDataset\n",
    "from torchvision import datasets, transforms\n",
    "import torchvision.utils as vutils\n",
    "from sklearn.model_selection import train_test_split\n",
    "\n",
    "import pandas as pd\n",
    "import matplotlib.pyplot as plt\n",
    "import numpy as np\n",
    "import time\n",
    "import image_loader"
   ]
  },
  {
   "cell_type": "code",
   "execution_count": 2,
   "metadata": {},
   "outputs": [],
   "source": [
    "transform = transforms.Compose([\n",
    "    transforms.ToTensor(), \n",
    "    transforms.Normalize(mean=(0.5,0.5,0.5),std=(0.5,0.5,0.5))\n",
    "    ])"
   ]
  },
  {
   "cell_type": "code",
   "execution_count": 3,
   "metadata": {},
   "outputs": [],
   "source": [
    "n_noise = 100\n",
    "n_channel = 3\n",
    "batch_size = 100"
   ]
  },
  {
   "cell_type": "code",
   "execution_count": 4,
   "metadata": {},
   "outputs": [],
   "source": [
    "train_X = image_loader.load('../../datasets/celebA/img_align_celeba/cropped/')\n",
    "train_Y = [1] * len(train_X)\n",
    "\n",
    "train_X = torch.tensor(train_X)\n",
    "train_Y = torch.tensor(train_Y)"
   ]
  },
  {
   "cell_type": "code",
   "execution_count": 5,
   "metadata": {},
   "outputs": [],
   "source": [
    "train = TensorDataset(train_X, train_Y)\n",
    "train_loader = DataLoader(train, batch_size=100, shuffle=True, num_workers=2)"
   ]
  },
  {
   "cell_type": "code",
   "execution_count": 6,
   "metadata": {},
   "outputs": [
    {
     "data": {
      "text/plain": [
       "4000"
      ]
     },
     "execution_count": 6,
     "metadata": {},
     "output_type": "execute_result"
    }
   ],
   "source": [
    "len(train_X)"
   ]
  },
  {
   "cell_type": "code",
   "execution_count": 7,
   "metadata": {},
   "outputs": [],
   "source": [
    "def get_noise(batch_size, n_noise):\n",
    "    return np.random.uniform(-1, 1, (batch_size, n_noise))"
   ]
  },
  {
   "cell_type": "code",
   "execution_count": 8,
   "metadata": {},
   "outputs": [],
   "source": [
    "class Generator(nn.Module):\n",
    "    \n",
    "    def __init__(self):\n",
    "        super(Generator, self).__init__()\n",
    "        \n",
    "        # 1, 100\n",
    "        self.fc1 = nn.Linear(n_noise, 256*7*7)\n",
    "            \n",
    "        self.conv = nn.Sequential(\n",
    "            \n",
    "            nn.ConvTranspose2d(256, 128, 3, 2, 1, output_padding=1),\n",
    "            nn.BatchNorm2d(128),\n",
    "            nn.ReLU(),\n",
    "            \n",
    "            nn.ConvTranspose2d(128, 64, 3, 2, 1, output_padding=1),\n",
    "            nn.BatchNorm2d(64),\n",
    "            nn.ReLU(),\n",
    "            \n",
    "            nn.ConvTranspose2d(64, 32, 3, 2, 1, output_padding=1),\n",
    "            nn.BatchNorm2d(32),\n",
    "            nn.ReLU(),\n",
    "            \n",
    "            nn.ConvTranspose2d(32, 16, 3, 2, 1, output_padding=1),\n",
    "            nn.BatchNorm2d(16),\n",
    "            nn.ReLU(),\n",
    "            \n",
    "            nn.ConvTranspose2d(16, 8, 3, 2, 1, output_padding=1),\n",
    "            nn.BatchNorm2d(8),\n",
    "            nn.ReLU(),\n",
    "        \n",
    "            nn.ConvTranspose2d(8, n_channel, 3, 1, 1)\n",
    "        )\n",
    "        \n",
    "    def forward(self, x):\n",
    "        x = self.fc1(x)\n",
    "        x = x.reshape(-1, 256, 7, 7)\n",
    "        x = self.conv(x)\n",
    "        return F.tanh(x)"
   ]
  },
  {
   "cell_type": "code",
   "execution_count": 9,
   "metadata": {},
   "outputs": [],
   "source": [
    "class Discriminator(nn.Module):\n",
    "    def __init__(self):\n",
    "        super(Discriminator, self).__init__()\n",
    "        self.conv = nn.Sequential(\n",
    "            nn.Conv2d(n_channel, 8, 3, 1, 1),\n",
    "            nn.LeakyReLU(0.2),\n",
    "            nn.MaxPool2d(2,2),\n",
    "            \n",
    "            nn.Conv2d(8, 16, 3, 1, 1),\n",
    "            nn.BatchNorm2d(16),\n",
    "            nn.LeakyReLU(0.2),\n",
    "            \n",
    "            nn.Conv2d(16, 32, 3, 1, 1),\n",
    "            nn.BatchNorm2d(32),\n",
    "            nn.LeakyReLU(0.2),\n",
    "            nn.MaxPool2d(2,2),\n",
    "            \n",
    "            nn.Conv2d(32, 64, 3, 1, 1),\n",
    "            nn.BatchNorm2d(64),\n",
    "            nn.LeakyReLU(0.2),\n",
    "            nn.MaxPool2d(2,2),\n",
    "            \n",
    "            nn.Conv2d(64, 128, 3, 1, 1),\n",
    "            nn.BatchNorm2d(128),\n",
    "            nn.LeakyReLU(0.2),\n",
    "            nn.MaxPool2d(2,2),\n",
    "            \n",
    "            nn.Conv2d(128, 256, 3, 1, 1),\n",
    "            nn.BatchNorm2d(256),\n",
    "            nn.LeakyReLU(0.2),\n",
    "            nn.MaxPool2d(2,2),\n",
    "            \n",
    "\n",
    "            nn.Conv2d(256, 256, 3, 1, 1)       \n",
    "        )\n",
    "        \n",
    "        self.fc1 = nn.Linear(256*7*7, 1)\n",
    "        \n",
    "    def forward(self, x):\n",
    "        x = self.conv(x).reshape(-1, 256*7*7)\n",
    "        x = self.fc1(x)\n",
    "        \n",
    "        return F.sigmoid(x)\n"
   ]
  },
  {
   "cell_type": "code",
   "execution_count": 10,
   "metadata": {},
   "outputs": [],
   "source": [
    "device = torch.device(\"cuda:0\" if torch.cuda.is_available() else \"cpu\")\n",
    "\n",
    "G = Generator()\n",
    "D = Discriminator()\n",
    "\n",
    "G = G.to(device)\n",
    "D = D.to(device)\n",
    "\n",
    "criterion = nn.BCELoss()\n",
    "optimizerG = optim.Adam(G.parameters(), lr=0.0002, betas=(0.5, 0.999))\n",
    "optimizerD = optim.Adam(D.parameters(), lr=0.0002, betas=(0.5, 0.999))"
   ]
  },
  {
   "cell_type": "code",
   "execution_count": 2,
   "metadata": {},
   "outputs": [
    {
     "name": "stdout",
     "output_type": "stream",
     "text": [
      "Training start\n"
     ]
    },
    {
     "ename": "NameError",
     "evalue": "name 'time' is not defined",
     "output_type": "error",
     "traceback": [
      "\u001b[1;31m---------------------------------------------------------------------------\u001b[0m",
      "\u001b[1;31mNameError\u001b[0m                                 Traceback (most recent call last)",
      "\u001b[1;32m<ipython-input-2-ab8a23084eee>\u001b[0m in \u001b[0;36m<module>\u001b[1;34m\u001b[0m\n\u001b[0;32m      1\u001b[0m \u001b[0mprint\u001b[0m\u001b[1;33m(\u001b[0m\u001b[1;34m\"Training start\"\u001b[0m\u001b[1;33m)\u001b[0m\u001b[1;33m\u001b[0m\u001b[1;33m\u001b[0m\u001b[0m\n\u001b[1;32m----> 2\u001b[1;33m \u001b[0mstart\u001b[0m \u001b[1;33m=\u001b[0m \u001b[0mtime\u001b[0m\u001b[1;33m.\u001b[0m\u001b[0mtime\u001b[0m\u001b[1;33m(\u001b[0m\u001b[1;33m)\u001b[0m\u001b[1;33m\u001b[0m\u001b[1;33m\u001b[0m\u001b[0m\n\u001b[0m\u001b[0;32m      3\u001b[0m \u001b[1;33m\u001b[0m\u001b[0m\n\u001b[0;32m      4\u001b[0m \u001b[1;32mfor\u001b[0m \u001b[0mepoch\u001b[0m \u001b[1;32min\u001b[0m \u001b[0mrange\u001b[0m\u001b[1;33m(\u001b[0m\u001b[1;36m500\u001b[0m\u001b[1;33m)\u001b[0m\u001b[1;33m:\u001b[0m\u001b[1;33m\u001b[0m\u001b[1;33m\u001b[0m\u001b[0m\n\u001b[0;32m      5\u001b[0m     \u001b[1;32mfor\u001b[0m \u001b[0mdata\u001b[0m\u001b[1;33m,\u001b[0m \u001b[0mtarget\u001b[0m \u001b[1;32min\u001b[0m \u001b[0mtrain_loader\u001b[0m\u001b[1;33m:\u001b[0m\u001b[1;33m\u001b[0m\u001b[1;33m\u001b[0m\u001b[0m\n",
      "\u001b[1;31mNameError\u001b[0m: name 'time' is not defined"
     ]
    }
   ],
   "source": [
    "print(\"Training start\")\n",
    "start = time.time()\n",
    "\n",
    "for epoch in range(500):\n",
    "    for data, target in train_loader:\n",
    "        G.train()\n",
    "        train_x, _ = data.reshape(-1, 3, 224, 224).to(device), target\n",
    "        \n",
    "        #training Discriminator\n",
    "        optimizerD.zero_grad()\n",
    "        d_real_data = train_x\n",
    "        d_real_output = D(d_real_data)\n",
    "        d_real_error = criterion(d_real_output, torch.ones(batch_size).reshape(batch_size,1).to(device))\n",
    "        \n",
    "        d_gen_input = torch.from_numpy(get_noise(batch_size, n_noise)).float().to(device)\n",
    "        d_fake_data = G(d_gen_input.float()).detach()\n",
    "        d_fake_output = D(d_fake_data)\n",
    "        d_fake_error = criterion(d_fake_output, torch.zeros(batch_size).reshape(batch_size,1).to(device))\n",
    "\n",
    "        d_train_loss = d_real_error + d_fake_error\n",
    "        d_train_loss.backward()\n",
    "        optimizerD.step()\n",
    "        \n",
    "        \n",
    "        #training Generator\n",
    "        optimizerG.zero_grad()\n",
    "#         g_data = torch.from_numpy(get_noise(batch_size, n_noise)).float().to(device)\n",
    "        g_fake_output = G(d_gen_input)\n",
    "        gd_fake_output = D(g_fake_output)\n",
    "        g_error = criterion(gd_fake_output, torch.ones(batch_size).reshape(batch_size,1).to(device))\n",
    "        g_error.backward()\n",
    "        \n",
    "        optimizerG.step()\n",
    "    \n",
    "    \n",
    "        lossD = d_train_loss\n",
    "        lossG = g_error\n",
    "        \n",
    "    G.eval()\n",
    "    print('epoch %d'%epoch, 'lossD',lossD.data,'lossG',lossG.data)\n",
    "    image = G(torch.from_numpy(get_noise(10, n_noise)).to(device).float())\n",
    "    fig, ax = plt.subplots(1, 10, figsize=(15,4))\n",
    "    \n",
    "    for i in range(10):\n",
    "        data = image[i].cpu().data.numpy().reshape(3, 224, 224)\n",
    "        data = np.transpose(data, (1,2,0))\n",
    "        ax[i].set_axis_off()\n",
    "        ax[i].imshow((data+1)/2)\n",
    "    \n",
    "    plt.savefig('./DCGAN_pytorch_celebA_samples/{}.png'.format(str(epoch+200).zfill(3)), bbox_inches='tight')\n",
    "    plt.close()\n",
    "        \n",
    "end = time.time()\n",
    "\n",
    "print('Elapsed Time : %.3f sec'%(end-start))"
   ]
  },
  {
   "cell_type": "code",
   "execution_count": null,
   "metadata": {},
   "outputs": [],
   "source": [
    "torch.save(G, '../saved_model/DCGAN_pytorch_celebA/DCGAN_pytorch_celebA_G.pt')\n",
    "torch.save(D, '../saved_model/DCGAN_pytorch_celebA/DCGAN_pytorch_celebA_D.pt')"
   ]
  },
  {
   "cell_type": "code",
   "execution_count": null,
   "metadata": {},
   "outputs": [],
   "source": [
    "G.eval()\n",
    "n = get_noise(1,100)\n",
    "image = G(torch.from_numpy(n).cuda().float())\n",
    "\n",
    "plt.imshow(image.data.cpu().numpy().reshape(224,224))"
   ]
  },
  {
   "cell_type": "code",
   "execution_count": null,
   "metadata": {},
   "outputs": [],
   "source": [
    "image = G(torch.from_numpy(get_noise(10, n_noise)).to(device).float())\n",
    "fig, ax = plt.subplots(1, 10, figsize=(15,4))\n",
    "for i in range(10):\n",
    "    data = image[i].cpu().data.numpy().reshape(3, 224, 224)\n",
    "    data = np.transpose(data, (1,2,0))\n",
    "    ax[i].set_axis_off()\n",
    "    ax[i].imshow(data)\n"
   ]
  },
  {
   "cell_type": "code",
   "execution_count": null,
   "metadata": {},
   "outputs": [],
   "source": []
  }
 ],
 "metadata": {
  "kernelspec": {
   "display_name": "Python 3",
   "language": "python",
   "name": "python3"
  },
  "language_info": {
   "codemirror_mode": {
    "name": "ipython",
    "version": 3
   },
   "file_extension": ".py",
   "mimetype": "text/x-python",
   "name": "python",
   "nbconvert_exporter": "python",
   "pygments_lexer": "ipython3",
   "version": "3.6.8"
  },
  "varInspector": {
   "cols": {
    "lenName": 16,
    "lenType": 16,
    "lenVar": 40
   },
   "kernels_config": {
    "python": {
     "delete_cmd_postfix": "",
     "delete_cmd_prefix": "del ",
     "library": "var_list.py",
     "varRefreshCmd": "print(var_dic_list())"
    },
    "r": {
     "delete_cmd_postfix": ") ",
     "delete_cmd_prefix": "rm(",
     "library": "var_list.r",
     "varRefreshCmd": "cat(var_dic_list()) "
    }
   },
   "types_to_exclude": [
    "module",
    "function",
    "builtin_function_or_method",
    "instance",
    "_Feature"
   ],
   "window_display": false
  }
 },
 "nbformat": 4,
 "nbformat_minor": 2
}
