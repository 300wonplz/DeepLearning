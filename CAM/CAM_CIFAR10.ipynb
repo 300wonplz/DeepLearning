{
 "cells": [
  {
   "cell_type": "code",
   "execution_count": 37,
   "metadata": {},
   "outputs": [],
   "source": [
    "import torch\n",
    "import torch.nn as nn\n",
    "import torch.nn.functional as F\n",
    "import torchvision\n",
    "from torchvision import datasets, transforms\n",
    "import torchvision.models as models\n",
    "import torch.optim as optim\n",
    "from torch.autograd import Variable\n",
    "from torch.utils.data import DataLoader, TensorDataset\n",
    "\n",
    "import PIL\n",
    "import matplotlib.pyplot as plt\n",
    "import numpy as np\n",
    "import time\n",
    "import cv2\n",
    "import os"
   ]
  },
  {
   "cell_type": "code",
   "execution_count": 2,
   "metadata": {},
   "outputs": [],
   "source": [
    "transform = transforms.Compose([transforms.ToTensor(), transforms.Normalize((0.5, 0.5, 0.5), (0.5, 0.5, 0.5))])"
   ]
  },
  {
   "cell_type": "code",
   "execution_count": 3,
   "metadata": {},
   "outputs": [
    {
     "name": "stdout",
     "output_type": "stream",
     "text": [
      "Files already downloaded and verified\n"
     ]
    }
   ],
   "source": [
    "trainset = datasets.CIFAR10(root='../../CIFAR10', train=True, download=True, transform=transform)"
   ]
  },
  {
   "cell_type": "code",
   "execution_count": 4,
   "metadata": {},
   "outputs": [],
   "source": [
    "#data augmentation\n",
    "trainset.train_data = np.concatenate((trainset.train_data, trainset.train_data[::-1, :]))\n",
    "trainset.train_labels = np.concatenate((trainset.train_labels, trainset.train_labels[::-1]))"
   ]
  },
  {
   "cell_type": "code",
   "execution_count": 274,
   "metadata": {},
   "outputs": [],
   "source": [
    "train_loader = DataLoader(trainset, batch_size=4, shuffle=True, num_workers=2)"
   ]
  },
  {
   "cell_type": "code",
   "execution_count": 157,
   "metadata": {},
   "outputs": [
    {
     "name": "stdout",
     "output_type": "stream",
     "text": [
      "Files already downloaded and verified\n"
     ]
    }
   ],
   "source": [
    "testset = datasets.CIFAR10(root='../../CIFAR10', train=False, download=True, transform=transform)\n",
    "test_loader = DataLoader(testset, batch_size=1, shuffle=False, num_workers=2)"
   ]
  },
  {
   "cell_type": "code",
   "execution_count": 120,
   "metadata": {},
   "outputs": [],
   "source": [
    "classes = np.array(('plane', 'car', 'bird', 'cat', 'deer', 'dog', 'frog', 'horse', 'ship', 'truck'))"
   ]
  },
  {
   "cell_type": "code",
   "execution_count": 8,
   "metadata": {},
   "outputs": [],
   "source": [
    "class Net(nn.Module):\n",
    "    def __init__(self):\n",
    "        super(Net, self).__init__()\n",
    "        self.conv = nn.Sequential(\n",
    "            # 3 x 32 x 32\n",
    "            nn.Conv2d(3, 10, 3, 1, 1),\n",
    "            nn.BatchNorm2d(10),\n",
    "            nn.LeakyReLU(0.2),\n",
    "            \n",
    "            # 10 x 32 x 32\n",
    "            nn.Conv2d(10, 32, 3, 1, 1),\n",
    "            nn.BatchNorm2d(32),\n",
    "            nn.LeakyReLU(0.2),\n",
    "            \n",
    "            # 32 x 32 x 32\n",
    "            nn.MaxPool2d(2, 2),\n",
    "            \n",
    "            # 32 x 16 x 16\n",
    "            nn.Conv2d(32, 64, 3, 1, 1),\n",
    "            nn.BatchNorm2d(64),\n",
    "            nn.LeakyReLU(0.2),\n",
    "            \n",
    "            # 64 x 16 x 16\n",
    "            nn.MaxPool2d(2, 2),\n",
    "            \n",
    "            # 64 x 8 x 8\n",
    "            nn.Conv2d(64, 10, 3, 1, 1),\n",
    "            nn.BatchNorm2d(10),\n",
    "            nn.LeakyReLU(0.2)\n",
    "            \n",
    "            # output ==> 10 x 8 x 8\n",
    "        )\n",
    "        \n",
    "        # 10 x 8 x 8\n",
    "        self.avg_pool = nn.AvgPool2d(8)\n",
    "        \n",
    "        # 10 x 1 x 1\n",
    "        self.fc = nn.Linear(10, 10)\n",
    "        \n",
    "    def forward(self, x):\n",
    "        features = self.conv(x)\n",
    "        flatten = self.avg_pool(features).view(features.size(0), -1)\n",
    "        output = self.fc(flatten)\n",
    "        \n",
    "        return output, features\n",
    "    \n",
    "model = Net().cuda()\n",
    "torch.backends.cudnn.benchmark=True\n",
    "\n",
    "criterion = nn.CrossEntropyLoss()\n",
    "optimizer = optim.Adam(model.parameters(), lr=0.001)"
   ]
  },
  {
   "cell_type": "code",
   "execution_count": 9,
   "metadata": {},
   "outputs": [
    {
     "name": "stdout",
     "output_type": "stream",
     "text": [
      "\n",
      " ==> Training Start\n",
      "\n",
      " epoch 1 0.39012473034650086\n",
      "\n",
      " epoch 2 0.31450540833428503\n",
      "\n",
      " epoch 3 0.28624165576905014\n",
      "Elapsed Time : 843.740\n"
     ]
    }
   ],
   "source": [
    "start = time.time()\n",
    "print('\\n ==> Training Start')\n",
    "\n",
    "epochs = 3\n",
    "for epoch in range(epochs):\n",
    "    total_loss =  0.0\n",
    "    \n",
    "#     for data, target in train_loader:\n",
    "    for data, target in train_loader:\n",
    "        train_x, train_y = Variable(data.float()).cuda(), Variable(target.long()).cuda()\n",
    "        optimizer.zero_grad()\n",
    "        outputs, _ = model(train_x)\n",
    "        loss = criterion(outputs, train_y)\n",
    "        loss.backward()\n",
    "        optimizer.step()\n",
    "        total_loss += loss.item()\n",
    "        \n",
    "    print('\\n epoch %d' % (epoch+1), total_loss/trainset.train_data.shape[0])\n",
    "end = time.time()\n",
    "\n",
    "print('Elapsed Time : %.3f' % (end-start))"
   ]
  },
  {
   "cell_type": "code",
   "execution_count": 15,
   "metadata": {},
   "outputs": [
    {
     "name": "stdout",
     "output_type": "stream",
     "text": [
      "Acc : 60.650\n"
     ]
    }
   ],
   "source": [
    "correct = 0\n",
    "total = 0\n",
    "\n",
    "for data, target in test_loader:\n",
    "    test_x, test_y = Variable(data).cuda(), Variable(target).cuda()\n",
    "    outputs, _ = model(test_x)\n",
    "    _, predicted = torch.max(outputs, 1)\n",
    "    \n",
    "    total += test_y.size(0)\n",
    "    correct += (predicted.cpu() == test_y.cpu()).sum().item()\n",
    "\n",
    "print('Acc : %.3f' % ((correct/total) * 100))\n",
    "    "
   ]
  },
  {
   "cell_type": "code",
   "execution_count": 17,
   "metadata": {},
   "outputs": [
    {
     "name": "stdout",
     "output_type": "stream",
     "text": [
      "Accuracy of plane : 60 %\n",
      "Accuracy of   car : 79 %\n",
      "Accuracy of  bird : 43 %\n",
      "Accuracy of   cat : 26 %\n",
      "Accuracy of  deer : 59 %\n",
      "Accuracy of   dog : 58 %\n",
      "Accuracy of  frog : 62 %\n",
      "Accuracy of horse : 64 %\n",
      "Accuracy of  ship : 72 %\n",
      "Accuracy of truck : 78 %\n"
     ]
    }
   ],
   "source": [
    "class_correct = list(0. for i in range(10))\n",
    "class_total = list(0. for i in range(10))\n",
    "with torch.no_grad():\n",
    "    for data, target in test_loader:\n",
    "        images, labels = Variable(data).cuda(), Variable(target).cuda()\n",
    "        outputs, _ = model(images)\n",
    "        _, predicted = torch.max(outputs, 1)\n",
    "        c = (predicted.cpu() == labels.cpu()).squeeze()\n",
    "        for i in range(4):\n",
    "            label = labels[i]\n",
    "            class_correct[label] += c[i].item()\n",
    "            class_total[label] += 1\n",
    "\n",
    "\n",
    "for i in range(10):\n",
    "    print('Accuracy of %5s : %2d %%' % (classes[i], 100 * class_correct[i] / class_total[i])) "
   ]
  },
  {
   "cell_type": "code",
   "execution_count": 315,
   "metadata": {},
   "outputs": [
    {
     "data": {
      "text/plain": [
       "<torch.utils.hooks.RemovableHandle at 0x27b82b21ac8>"
      ]
     },
     "execution_count": 315,
     "metadata": {},
     "output_type": "execute_result"
    }
   ],
   "source": [
    "final_conv = 'conv'\n",
    "\n",
    "#hook (원하는 위치의 gradient값)\n",
    "feature_blobs = []\n",
    "def hook_feature(module, input, output):\n",
    "    feature_blobs.append(output.cpu().data.numpy())\n",
    "    \n",
    "model._modules.get(final_conv).register_forward_hook(hook_feature)"
   ]
  },
  {
   "cell_type": "code",
   "execution_count": 349,
   "metadata": {},
   "outputs": [],
   "source": [
    "params = list(model.parameters())\n",
    "\n",
    "weight_softmax = np.squeeze(params[-2].cpu().data.numpy())\n",
    "\n",
    "\n",
    "def returnCAM(feature_conv, weight_softmax, class_idx):\n",
    "    size_upsample = (32, 32)\n",
    "    bz, nc, h, w = feature_conv.shape\n",
    "    output_cam = []\n",
    "    cam = weight_softmax[class_idx].dot(feature_conv.reshape((nc, h*w)))\n",
    "    cam = cam.reshape(h, w)\n",
    "    cam = cam - np.min(cam)\n",
    "    cam_img = cam / np.max(cam)\n",
    "    cam_img = np.uint8(255 * cam_img)\n",
    "    output_cam.append(cv2.resize(cam_img, size_upsample))\n",
    "    \n",
    "    return output_cam"
   ]
  },
  {
   "cell_type": "code",
   "execution_count": 350,
   "metadata": {},
   "outputs": [],
   "source": [
    "if not os.path.exists('./result'):\n",
    "    os.mkdir('result/')\n",
    "\n",
    "test_batch = iter(test_loader)"
   ]
  },
  {
   "cell_type": "code",
   "execution_count": 604,
   "metadata": {},
   "outputs": [
    {
     "name": "stdout",
     "output_type": "stream",
     "text": [
      "4 deer 0.22546671330928802\n"
     ]
    }
   ],
   "source": [
    "image_tensor, image_label = test_batch.next()\n",
    "image_PIL = transforms.ToPILImage()(image_tensor[0])\n",
    "image_PIL.save('./result/test.jpg')\n",
    "\n",
    "image_tensor = Variable(image_tensor).cuda()\n",
    "logit, _ = model(image_tensor)\n",
    "h_x = F.softmax(logit, dim=1).data.squeeze()\n",
    "probs, idx = h_x.sort(0, True)\n",
    "print(idx[0].item(), classes[idx[0]], probs[0].item())\n",
    "CAMs = returnCAM(feature_blobs[0], weight_softmax, [idx[0].item()])"
   ]
  },
  {
   "cell_type": "code",
   "execution_count": 605,
   "metadata": {},
   "outputs": [
    {
     "data": {
      "text/plain": [
       "True"
      ]
     },
     "execution_count": 605,
     "metadata": {},
     "output_type": "execute_result"
    }
   ],
   "source": [
    "img = cv2.imread('result/test.jpg')\n",
    "height, width, _ = img.shape\n",
    "heatmap = cv2.applyColorMap(cv2.resize(CAMs[0], (width, height)), cv2.COLORMAP_JET)\n",
    "result = heatmap * 0.3 + img * 0.5\n",
    "cv2.imwrite('result/CAM.jpg', result)"
   ]
  },
  {
   "cell_type": "code",
   "execution_count": 603,
   "metadata": {},
   "outputs": [
    {
     "name": "stderr",
     "output_type": "stream",
     "text": [
      "Clipping input data to the valid range for imshow with RGB data ([0..1] for floats or [0..255] for integers).\n"
     ]
    },
    {
     "name": "stdout",
     "output_type": "stream",
     "text": [
      "(3, 32, 32)\n"
     ]
    },
    {
     "data": {
      "text/plain": [
       "<matplotlib.image.AxesImage at 0x27c31d68240>"
      ]
     },
     "execution_count": 603,
     "metadata": {},
     "output_type": "execute_result"
    },
    {
     "data": {
      "image/png": "[encoded data removed]",
      "text/plain": [
       "<Figure size 432x288 with 1 Axes>"
      ]
     },
     "metadata": {
      "needs_background": "light"
     },
     "output_type": "display_data"
    }
   ],
   "source": [
    "img = image_tensor.cpu().numpy().squeeze()\n",
    "print(img.shape)\n",
    "plt.imshow(np.transpose(img, (1, 2, 0)))"
   ]
  },
  {
   "cell_type": "code",
   "execution_count": 609,
   "metadata": {},
   "outputs": [
    {
     "data": {
      "text/plain": [
       "(1, 10, 8, 8)"
      ]
     },
     "execution_count": 609,
     "metadata": {},
     "output_type": "execute_result"
    }
   ],
   "source": [
    "feature_blobs[0].shape"
   ]
  },
  {
   "cell_type": "code",
   "execution_count": null,
   "metadata": {},
   "outputs": [],
   "source": []
  }
 ],
 "metadata": {
  "kernelspec": {
   "display_name": "Python 3",
   "language": "python",
   "name": "python3"
  },
  "language_info": {
   "codemirror_mode": {
    "name": "ipython",
    "version": 3
   },
   "file_extension": ".py",
   "mimetype": "text/x-python",
   "name": "python",
   "nbconvert_exporter": "python",
   "pygments_lexer": "ipython3",
   "version": "3.6.8"
  }
 },
 "nbformat": 4,
 "nbformat_minor": 2
}
