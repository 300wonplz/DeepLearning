{
 "cells": [
  {
   "cell_type": "code",
   "execution_count": 1,
   "metadata": {},
   "outputs": [],
   "source": [
    "import tensorflow as tf\n",
    "import matplotlib.pyplot as plt\n",
    "import numpy as np\n",
    "from tensorflow.examples.tutorials.mnist import input_data"
   ]
  },
  {
   "cell_type": "code",
   "execution_count": 3,
   "metadata": {},
   "outputs": [
    {
     "name": "stdout",
     "output_type": "stream",
     "text": [
      "Extracting ./tmp/data/train-images-idx3-ubyte.gz\n",
      "Extracting ./tmp/data/train-labels-idx1-ubyte.gz\n",
      "Extracting ./tmp/data/t10k-images-idx3-ubyte.gz\n",
      "Extracting ./tmp/data/t10k-labels-idx1-ubyte.gz\n"
     ]
    }
   ],
   "source": [
    "mnist = input_data.read_data_sets(\"./tmp/data/\", one_hot=True)"
   ]
  },
  {
   "cell_type": "code",
   "execution_count": 4,
   "metadata": {},
   "outputs": [],
   "source": [
    "num_filters = 16\n",
    "\n",
    "x = tf.placeholder(tf.float32, [None, 784])\n",
    "#[batch, in_height, in_width, in_channels]\n",
    "x_image = tf.reshape(x, [-1, 28, 28, 1])\n",
    "\n",
    "#[세로, 가로, 입력레이어 수, 출력레이어 수]\n",
    "W_conv = tf.Variable(tf.truncated_normal([5, 5, 1, num_filters], stddev=0.1))\n",
    "#stride [1, dy, dx, 1]\n",
    "h_conv = tf.nn.conv2d(x_image, W_conv, strides=[1,1,1,1], padding='SAME')\n",
    "h_pool = tf.nn.max_pool(h_conv, ksize=[1,2,2,1], strides=[1,2,2,1], padding='SAME')\n",
    "\n",
    "h_pool_flat = tf.reshape(h_pool, [-1, 14*14*num_filters])\n",
    "\n",
    "num_units1 = 14*14*num_filters\n",
    "num_units2 = 1024\n",
    "\n",
    "w2 = tf.Variable(tf.truncated_normal([num_units1, num_units2]))\n",
    "b2 = tf.Variable(tf.zeros([num_units2]))\n",
    "hidden2 = tf.nn.relu(tf.matmul(h_pool_flat, w2) + b2)\n",
    "\n",
    "w0 = tf.Variable(tf.zeros([num_units2, 10]))\n",
    "b0 = tf.Variable(tf.zeros([10]))\n",
    "p = tf.nn.softmax(tf.matmul(hidden2, w0)+b0)"
   ]
  },
  {
   "cell_type": "code",
   "execution_count": 5,
   "metadata": {},
   "outputs": [],
   "source": [
    "t = tf.placeholder(tf.float32, [None, 10])\n",
    "loss = -tf.reduce_sum(t * tf.log(p))\n",
    "train_step = tf.train.AdamOptimizer(0.0005).minimize(loss)\n",
    "\n",
    "correct_prediction = tf.equal(tf.argmax(p, 1), tf.argmax(t, 1))\n",
    "accuracy = tf.reduce_mean(tf.cast(correct_prediction, tf.float32))"
   ]
  },
  {
   "cell_type": "code",
   "execution_count": 6,
   "metadata": {},
   "outputs": [],
   "source": [
    "sess = tf.Session()\n",
    "sess.run(tf.global_variables_initializer())\n",
    "saver = tf.train.Saver()"
   ]
  },
  {
   "cell_type": "code",
   "execution_count": 7,
   "metadata": {},
   "outputs": [
    {
     "name": "stdout",
     "output_type": "stream",
     "text": [
      "Step: 100, Loss: 2467.659180, Accuracy: 0.927800\n",
      "Step: 200, Loss: 1873.908691, Accuracy: 0.942200\n",
      "Step: 300, Loss: 1489.833740, Accuracy: 0.954400\n",
      "Step: 400, Loss: 1507.675537, Accuracy: 0.952900\n",
      "Step: 500, Loss: 1096.351074, Accuracy: 0.967400\n",
      "Step: 600, Loss: 978.234009, Accuracy: 0.968500\n",
      "Step: 700, Loss: 932.722839, Accuracy: 0.971300\n",
      "Step: 800, Loss: 891.332397, Accuracy: 0.972700\n",
      "Step: 900, Loss: 989.003723, Accuracy: 0.969700\n",
      "Step: 1000, Loss: 791.687744, Accuracy: 0.975300\n",
      "Step: 1100, Loss: 874.230835, Accuracy: 0.971800\n",
      "Step: 1200, Loss: 730.716553, Accuracy: 0.976500\n",
      "Step: 1300, Loss: 757.856812, Accuracy: 0.973400\n",
      "Step: 1400, Loss: 809.375732, Accuracy: 0.974500\n",
      "Step: 1500, Loss: 806.886719, Accuracy: 0.973300\n",
      "Step: 1600, Loss: 691.637756, Accuracy: 0.978900\n",
      "Step: 1700, Loss: 646.434204, Accuracy: 0.980400\n",
      "Step: 1800, Loss: 681.416748, Accuracy: 0.979900\n",
      "Step: 1900, Loss: 654.621460, Accuracy: 0.979400\n",
      "Step: 2000, Loss: 746.307922, Accuracy: 0.976300\n",
      "Step: 2100, Loss: 776.964478, Accuracy: 0.974900\n",
      "Step: 2200, Loss: 712.944458, Accuracy: 0.978800\n",
      "Step: 2300, Loss: 569.887756, Accuracy: 0.983100\n",
      "Step: 2400, Loss: 617.509460, Accuracy: 0.982300\n",
      "Step: 2500, Loss: 657.318726, Accuracy: 0.979700\n",
      "Step: 2600, Loss: 688.874878, Accuracy: 0.979700\n",
      "Step: 2700, Loss: 691.633240, Accuracy: 0.979900\n",
      "Step: 2800, Loss: 684.733154, Accuracy: 0.980800\n",
      "Step: 2900, Loss: 636.893921, Accuracy: 0.981300\n",
      "Step: 3000, Loss: 703.819885, Accuracy: 0.979900\n",
      "Step: 3100, Loss: 622.849243, Accuracy: 0.982800\n",
      "Step: 3200, Loss: 667.578613, Accuracy: 0.980700\n",
      "Step: 3300, Loss: 649.709412, Accuracy: 0.982500\n",
      "Step: 3400, Loss: 576.965088, Accuracy: 0.983600\n",
      "Step: 3500, Loss: 605.170410, Accuracy: 0.984300\n",
      "Step: 3600, Loss: 734.964111, Accuracy: 0.979600\n",
      "Step: 3700, Loss: 641.248840, Accuracy: 0.983700\n",
      "Step: 3800, Loss: 867.014160, Accuracy: 0.976800\n",
      "Step: 3900, Loss: 742.485413, Accuracy: 0.981100\n",
      "Step: 4000, Loss: 688.961365, Accuracy: 0.982100\n"
     ]
    }
   ],
   "source": [
    "i = 0\n",
    "for _ in range(4000):\n",
    "    i += 1\n",
    "    batch_xs, batch_ts = mnist.train.next_batch(100)\n",
    "    sess.run(train_step, feed_dict={x: batch_xs, t: batch_ts})\n",
    "    \n",
    "    if i % 100 == 0:\n",
    "        loss_val, acc_val = sess.run([loss, accuracy], feed_dict={x: mnist.test.images, t: mnist.test.labels})\n",
    "        print('Step: %d, Loss: %f, Accuracy: %f'%(i, loss_val, acc_val))\n",
    "        saver.save(sess, './saver/mdc_session', global_step=i)"
   ]
  }
 ],
 "metadata": {
  "kernelspec": {
   "display_name": "Python 3",
   "language": "python",
   "name": "python3"
  },
  "language_info": {
   "codemirror_mode": {
    "name": "ipython",
    "version": 3
   },
   "file_extension": ".py",
   "mimetype": "text/x-python",
   "name": "python",
   "nbconvert_exporter": "python",
   "pygments_lexer": "ipython3",
   "version": "3.6.8"
  },
  "varInspector": {
   "cols": {
    "lenName": 16,
    "lenType": 16,
    "lenVar": 40
   },
   "kernels_config": {
    "python": {
     "delete_cmd_postfix": "",
     "delete_cmd_prefix": "del ",
     "library": "var_list.py",
     "varRefreshCmd": "print(var_dic_list())"
    },
    "r": {
     "delete_cmd_postfix": ") ",
     "delete_cmd_prefix": "rm(",
     "library": "var_list.r",
     "varRefreshCmd": "cat(var_dic_list()) "
    }
   },
   "types_to_exclude": [
    "module",
    "function",
    "builtin_function_or_method",
    "instance",
    "_Feature"
   ],
   "window_display": false
  }
 },
 "nbformat": 4,
 "nbformat_minor": 2
}
